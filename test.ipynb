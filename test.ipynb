{
 "cells": [
  {
   "cell_type": "code",
   "execution_count": 2,
   "metadata": {},
   "outputs": [
    {
     "name": "stderr",
     "output_type": "stream",
     "text": [
      "/home/bear/miniconda3/envs/dgl_v09/lib/python3.8/site-packages/tqdm/auto.py:21: TqdmWarning: IProgress not found. Please update jupyter and ipywidgets. See https://ipywidgets.readthedocs.io/en/stable/user_install.html\n",
      "  from .autonotebook import tqdm as notebook_tqdm\n"
     ]
    }
   ],
   "source": [
    "import dgl\n",
    "import torch\n",
    "import numpy as np"
   ]
  },
  {
   "cell_type": "code",
   "execution_count": 10,
   "metadata": {},
   "outputs": [],
   "source": [
    "low = 0\n",
    "high = 100000\n",
    "size = (10000,)  # 生成一个包含5个随机整数的序列\n",
    "random_integers = torch.randint(low, high, size)"
   ]
  },
  {
   "cell_type": "code",
   "execution_count": 12,
   "metadata": {},
   "outputs": [
    {
     "name": "stdout",
     "output_type": "stream",
     "text": [
      "tensor([99985, 99979, 99967,  ...,    36,    19,    13])\n",
      "tensor([8134, 2859, 5463,  ..., 1874,  482, 2642])\n"
     ]
    }
   ],
   "source": [
    "rted_tensor, indices = torch.sort(random_integers, descending=True)\n",
    "print(rted_tensor) # 值\n",
    "print(indices) # 索引位置\n",
    "               # 抽取GID\n",
    "\n",
    "# 首先获得子图节点(GID)，并抽取出对应的特征，以及特征对应的重要度值\n",
    "# 按照重要度对节点进行排序，拿到对应索引，随后映射回GID(GID排序)\n",
    "# 利用索引重排特征，利用排序后GID生成LID(此时LID与特征依然对应)，随后对子图进行id重排\n",
    "# 生成CSR格式数据\n"
   ]
  },
  {
   "cell_type": "code",
   "execution_count": 7,
   "metadata": {},
   "outputs": [
    {
     "name": "stdout",
     "output_type": "stream",
     "text": [
      "tensor([0, 0, 1, 0, 0, 0, 0, 0, 0, 0], device='cuda:0', dtype=torch.int32)\n",
      "tensor([0, 0, 1, 2, 2, 0, 0, 0, 0, 0], device='cuda:0', dtype=torch.int32)\n"
     ]
    }
   ],
   "source": [
    "nodeTable = torch.Tensor([0,0,1,0,0,0,0,0,0,0]).to(torch.int32).cuda()\n",
    "src = torch.Tensor([0,2,4,5,2,4,5,2]).to(torch.int32).cuda()\n",
    "dst = torch.Tensor([1,3,7,6,4,2,3,3]).to(torch.int32).cuda()\n",
    "acc = False\n",
    "print(nodeTable)\n",
    "dgl.fastFindNeighbor(nodeTable,src,dst,accumulate = False,flag=2)\n",
    "print(nodeTable)"
   ]
  },
  {
   "cell_type": "code",
   "execution_count": null,
   "metadata": {},
   "outputs": [],
   "source": []
  }
 ],
 "metadata": {
  "kernelspec": {
   "display_name": "dgl_v09",
   "language": "python",
   "name": "python3"
  },
  "language_info": {
   "codemirror_mode": {
    "name": "ipython",
    "version": 3
   },
   "file_extension": ".py",
   "mimetype": "text/x-python",
   "name": "python",
   "nbconvert_exporter": "python",
   "pygments_lexer": "ipython3",
   "version": "3.8.17"
  }
 },
 "nbformat": 4,
 "nbformat_minor": 2
}
