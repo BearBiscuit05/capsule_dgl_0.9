{
 "cells": [
  {
   "cell_type": "code",
   "execution_count": 2,
   "metadata": {},
   "outputs": [
    {
     "name": "stderr",
     "output_type": "stream",
     "text": [
      "/home/bear/miniconda3/envs/dgl_v09/lib/python3.8/site-packages/tqdm/auto.py:21: TqdmWarning: IProgress not found. Please update jupyter and ipywidgets. See https://ipywidgets.readthedocs.io/en/stable/user_install.html\n",
      "  from .autonotebook import tqdm as notebook_tqdm\n"
     ]
    }
   ],
   "source": [
    "import dgl\n",
    "import torch\n",
    "import numpy as np"
   ]
  },
  {
   "cell_type": "code",
   "execution_count": null,
   "metadata": {},
   "outputs": [],
   "source": [
    "low = 0\n",
    "high = 100000\n",
    "size = (10000,)  # 生成一个包含5个随机整数的序列\n",
    "r_integers = torch.randint(low, high, size)\n",
    "\n",
    "low = 0\n",
    "high = 4\n",
    "r_partition = torch.randint(low, high, size)\n",
    "\n",
    "low = 0\n",
    "high = 3\n",
    "r_layer = torch.randint(low, high, size)"
   ]
  },
  {
   "cell_type": "code",
   "execution_count": null,
   "metadata": {},
   "outputs": [],
   "source": [
    "rted_tensor, indices = torch.sort(r_integers, descending=True)\n",
    "print(rted_tensor) # 值\n",
    "print(indices) # 索引位置\n",
    "               # 抽取GID\n",
    "\n",
    "# 首先获得子图节点(GID)，并抽取出对应的特征，以及特征对应的重要度值\n",
    "# 按照重要度对节点进行排序，拿到对应索引，随后映射回GID(GID排序)\n",
    "# 利用索引重排特征，利用排序后GID生成LID(此时LID与特征依然对应)，随后对子图进行id重排\n",
    "# 生成CSR格式数据\n"
   ]
  },
  {
   "cell_type": "code",
   "execution_count": null,
   "metadata": {},
   "outputs": [],
   "source": []
  },
  {
   "cell_type": "code",
   "execution_count": 16,
   "metadata": {},
   "outputs": [
    {
     "data": {
      "text/plain": [
       "tensor([12, 10, 19, 37,  6, 32, 90, 44, 37, 77])"
      ]
     },
     "execution_count": 16,
     "metadata": {},
     "output_type": "execute_result"
    }
   ],
   "source": [
    "low = 0\n",
    "high = 100\n",
    "size = (10,)  # 生成一个包含5个随机整数的序列\n",
    "r_GID = torch.randint(low, high, size)\n",
    "r_GID"
   ]
  },
  {
   "cell_type": "code",
   "execution_count": 17,
   "metadata": {},
   "outputs": [
    {
     "data": {
      "text/plain": [
       "tensor([58, 15, 42, 63, 47, 85, 69, 19, 14, 48])"
      ]
     },
     "execution_count": 17,
     "metadata": {},
     "output_type": "execute_result"
    }
   ],
   "source": [
    "low = 0\n",
    "high = 100\n",
    "size = (10,)  # 生成一个包含5个随机整数的序列\n",
    "r_value = torch.randint(low, high, size)\n",
    "r_value"
   ]
  },
  {
   "cell_type": "code",
   "execution_count": 18,
   "metadata": {},
   "outputs": [
    {
     "data": {
      "text/plain": [
       "tensor([[12, 12, 12, 12],\n",
       "        [10, 10, 10, 10],\n",
       "        [19, 19, 19, 19],\n",
       "        [37, 37, 37, 37],\n",
       "        [ 6,  6,  6,  6],\n",
       "        [32, 32, 32, 32],\n",
       "        [90, 90, 90, 90],\n",
       "        [44, 44, 44, 44],\n",
       "        [37, 37, 37, 37],\n",
       "        [77, 77, 77, 77]])"
      ]
     },
     "execution_count": 18,
     "metadata": {},
     "output_type": "execute_result"
    }
   ],
   "source": [
    "feat = r_GID.repeat_interleave(4)\n",
    "feat = feat.reshape(-1,4)\n",
    "feat"
   ]
  },
  {
   "cell_type": "code",
   "execution_count": 19,
   "metadata": {},
   "outputs": [
    {
     "data": {
      "text/plain": [
       "tensor([5, 6, 3, 0, 9, 4, 2, 7, 1, 8])"
      ]
     },
     "execution_count": 19,
     "metadata": {},
     "output_type": "execute_result"
    }
   ],
   "source": [
    "rted_tensor, indices = torch.sort(r_value, descending=True)\n",
    "indices"
   ]
  },
  {
   "cell_type": "code",
   "execution_count": 20,
   "metadata": {},
   "outputs": [
    {
     "data": {
      "text/plain": [
       "tensor([85, 69, 63, 58, 48, 47, 42, 19, 15, 14])"
      ]
     },
     "execution_count": 20,
     "metadata": {},
     "output_type": "execute_result"
    }
   ],
   "source": [
    "rted_tensor"
   ]
  },
  {
   "cell_type": "code",
   "execution_count": 21,
   "metadata": {},
   "outputs": [
    {
     "data": {
      "text/plain": [
       "tensor([32, 90, 37, 12, 77,  6, 19, 44, 10, 37])"
      ]
     },
     "execution_count": 21,
     "metadata": {},
     "output_type": "execute_result"
    }
   ],
   "source": [
    "sort_GID = r_GID[indices]\n",
    "sort_GID"
   ]
  },
  {
   "cell_type": "code",
   "execution_count": 22,
   "metadata": {},
   "outputs": [
    {
     "data": {
      "text/plain": [
       "tensor([[32, 32, 32, 32],\n",
       "        [90, 90, 90, 90],\n",
       "        [37, 37, 37, 37],\n",
       "        [12, 12, 12, 12],\n",
       "        [77, 77, 77, 77],\n",
       "        [ 6,  6,  6,  6],\n",
       "        [19, 19, 19, 19],\n",
       "        [44, 44, 44, 44],\n",
       "        [10, 10, 10, 10],\n",
       "        [37, 37, 37, 37]])"
      ]
     },
     "execution_count": 22,
     "metadata": {},
     "output_type": "execute_result"
    }
   ],
   "source": [
    "feat = feat[indices]\n",
    "feat"
   ]
  }
 ],
 "metadata": {
  "kernelspec": {
   "display_name": "dgl_v09",
   "language": "python",
   "name": "python3"
  },
  "language_info": {
   "codemirror_mode": {
    "name": "ipython",
    "version": 3
   },
   "file_extension": ".py",
   "mimetype": "text/x-python",
   "name": "python",
   "nbconvert_exporter": "python",
   "pygments_lexer": "ipython3",
   "version": "3.8.17"
  }
 },
 "nbformat": 4,
 "nbformat_minor": 2
}
